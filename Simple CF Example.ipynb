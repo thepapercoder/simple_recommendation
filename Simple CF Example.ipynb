{
 "cells": [
  {
   "cell_type": "markdown",
   "metadata": {},
   "source": [
    "# Simple Item Based Collaborative Filtering\n",
    "SonNG\n",
    "Hanoi 2017/09/16"
   ]
  },
  {
   "cell_type": "markdown",
   "metadata": {},
   "source": [
    "Item based Colaborative Filering là một thuật toán dựa trên sự tương đồng giữa các item với nhau để từ đó đưa ra sự gợi ý cho người dùng. "
   ]
  },
  {
   "cell_type": "markdown",
   "metadata": {},
   "source": [
    "### Bước 1: Đọc dữ liệu và tạo ma trận đầu vào"
   ]
  },
  {
   "cell_type": "code",
   "execution_count": 115,
   "metadata": {
    "collapsed": false
   },
   "outputs": [
    {
     "name": "stdout",
     "output_type": "stream",
     "text": [
      "user,m1,m2,m3\n",
      "u1,2,-1,3\n",
      "u2,5,2,-1\n",
      "u3,3,3,1\n",
      "u4,-1,2,2\n",
      "\n",
      "[[ 2. -1.  3.]\n",
      " [ 5.  2. -1.]\n",
      " [ 3.  3.  1.]\n",
      " [-1.  2.  2.]]\n"
     ]
    }
   ],
   "source": [
    "import numpy as np\n",
    "import math\n",
    "\n",
    "# Read the data to numpy array\n",
    "with open('data/user_data.csv', 'r') as input_data:\n",
    "    raw_data = input_data.read()\n",
    "    data = [row.split(',')[1:] for row in raw_data.split('\\n')][1:]\n",
    "    data = np.array(data, dtype=np.float)\n",
    "\n",
    "print(raw_data)\n",
    "print()\n",
    "print(data)"
   ]
  },
  {
   "cell_type": "markdown",
   "metadata": {},
   "source": [
    "### Bước 2: Tính toán độ tương đồng giữa các bộ phim\n",
    "\n",
    "Độ tương đồng ở đây được tính dựa trên khoảng cách cosin: \n",
    "* Giả sử ta tính độ tương đồng của 2 bộ phim m1 và m2, ta thấy rằng hai bộ phim này cùng được đánh giá bởi người dùng u2 và u3 (như trong dữ liệu trên). \n",
    "* Chúng ta sẽ tạo ra 2 item-vector v1 cho m1 và v2 cho m2 trong user-space (u2, u3).\n",
    "    > v1 = 5 u2 + 3 u3 <br> v2 = 2 u2 + 3 u3\n",
    "* Sau đó độ tương đồng cosin được tính bằng công thức:\n",
    "    > cos(v1, v2) = (5*3 + 2*3) / sqrt[(25 + 9) * (4 + 9)] = 0.9037\n",
    "* Tương tự như vậy, lặp lại với từng cặp phim khác nhau, ta có thể tính được độ tương đồng giữa chúng.**Kết quả ta sẽ thu được ma trận độ tương đồng giữa các bộ phim**"
   ]
  },
  {
   "cell_type": "code",
   "execution_count": 116,
   "metadata": {
    "collapsed": false
   },
   "outputs": [
    {
     "name": "stdout",
     "output_type": "stream",
     "text": [
      "Movie 1: 0 and Movie 2: 1 have the similarity of: 0.9037378388935388 \n",
      "\n",
      "Movie 1: 0 and Movie 2: 2 have the similarity of: 0.7893522173763263 \n",
      "\n",
      "Movie 1: 1 and Movie 2: 2 have the similarity of: 0.8682431421244593 \n",
      "\n",
      "Similarity matrix between movies:\n",
      "[[ 1.          0.90373784  0.78935222]\n",
      " [ 0.90373784  1.          0.86824314]\n",
      " [ 0.78935222  0.86824314  1.        ]]\n"
     ]
    }
   ],
   "source": [
    "n_user, n_movie = data.shape\n",
    "similarity_matrix =  np.diag(np.ones(n_movie))\n",
    "\n",
    "upper = lambda a: a[0] * a[1]\n",
    "lower = lambda b: b[0]*b[0] + b[1]*b[1]\n",
    "\n",
    "\n",
    "def cal_cosin_distance(similarity_vector):\n",
    "    upper_sum = np.sum(np.apply_along_axis(upper, 1, similarity_vector))\n",
    "    lower_sum = math.sqrt(np.prod(np.apply_along_axis(lower, 0, similarity_vector)))\n",
    "    distance = upper_sum / lower_sum\n",
    "    return distance\n",
    "\n",
    "# Loop through each movie pair to calculate the similarity\n",
    "for m in range(n_movie):\n",
    "    for n in range(m + 1, n_movie, 1):\n",
    "        similarity_vector = data[np.where((data[:, m] != -1) * (data[:, n] != -1))][:, (m,n)]\n",
    "        distance = cal_cosin_distance(similarity_vector)\n",
    "        similarity_matrix[m, n] = distance\n",
    "        similarity_matrix[n, m] = distance\n",
    "        print(\"Movie 1: {} and Movie 2: {} have the similarity of: {} \\n\".format(m, n, distance))\n",
    "print(\"Similarity matrix between movies:\")\n",
    "print(similarity_matrix)"
   ]
  },
  {
   "cell_type": "markdown",
   "metadata": {},
   "source": [
    "### Bước 3: Tính toán rating của người dùng\n",
    "\n",
    "* Từ ma trận tương đồng vừa tìm được, ta sẽ tính toán rating của người dùng dựa trên độ tương đồng của bộ phim mà người đó đã đánh giá với những bộ phim người đó chưa đánh giá.\n",
    "* Cụ thể ví dụ như để tính toán rating của người dùng u1 cho bộ phim m2 ta có thể tính bằng công thưc sau: \n",
    "    > rating = ``(2 * 0.90373784 + 3 * 0.86824314) / (0.90373784 + 0.86824314) = 2.48998451``"
   ]
  },
  {
   "cell_type": "code",
   "execution_count": 113,
   "metadata": {
    "collapsed": false
   },
   "outputs": [
    {
     "name": "stdout",
     "output_type": "stream",
     "text": [
      "Original data:\n",
      "[[ 2. -1.  3.]\n",
      " [ 5.  2. -1.]\n",
      " [ 3.  3.  1.]\n",
      " [-1.  2.  2.]]\n",
      "\n",
      "Predict rating only data:\n",
      "[[ 0.          2.48998451  0.        ]\n",
      " [ 0.          0.          3.42860961]\n",
      " [ 0.          0.          0.        ]\n",
      " [ 2.          0.          0.        ]]\n"
     ]
    }
   ],
   "source": [
    "def cal_rating(user_rating_vector, target_movie):\n",
    "    upper = 0.\n",
    "    lower = 0.\n",
    "    for m in range(n_movie):\n",
    "        if user_rating_vector[m] == -1 or m == target_movie: continue\n",
    "        upper += user_rating_vector[m] * similarity_matrix[target_movie, m]\n",
    "        lower += recommend_matrix[target_movie, m]\n",
    "    rating = upper/lower\n",
    "    return rating\n",
    "    \n",
    "unrated_movie = np.zeros((n_user, n_movie), dtype=np.float32)\n",
    "\n",
    "# For each user and for each movie that user hadn't rated yet, predict rating for that user - movie pair\n",
    "for u in range(n_user):\n",
    "    for m in range(n_movie):\n",
    "        if data[u, m] == -1:\n",
    "            user_ratings = data[u, :]\n",
    "            unrated_movie[u, m] = cal_rating(user_ratings, m)\n",
    "print(\"Original data:\")\n",
    "print(data)\n",
    "print()\n",
    "print(\"Predict rating only data:\")\n",
    "print(unrated_movie)"
   ]
  },
  {
   "cell_type": "markdown",
   "metadata": {},
   "source": [
    "### Bước 4: Tìm ra bộ phim được dự đoán có rating cao nhất\n",
    "\n",
    "* Ở bước cuối, ta sắp xếp kết quả trong ma trận dự đoán vừa tìm được và chọn ra kết quả có đánh giá cao nhất để gợi ý cho người dùng"
   ]
  },
  {
   "cell_type": "code",
   "execution_count": 114,
   "metadata": {
    "collapsed": false
   },
   "outputs": [
    {
     "name": "stdout",
     "output_type": "stream",
     "text": [
      "Recommend movie 1 for user 0\n",
      "Recommend movie 2 for user 1\n",
      "Recommend movie 0 for user 2\n",
      "Recommend movie 0 for user 3\n"
     ]
    }
   ],
   "source": [
    "# Find the max rating\n",
    "recommend_movie = unrated_movie.argmax(axis=1)\n",
    "for user, movie in enumerate(recommend_movie): \n",
    "    print(\"Recommend movie {} for user {}\".format(movie, user))"
   ]
  },
  {
   "cell_type": "markdown",
   "metadata": {},
   "source": [
    "[Linux Uncle Blog]: [https://ashokharnal.wordpress.com/2014/12/18/worked-out-example-item-based-collaborative-filtering-for-recommenmder-engine/]\n",
    "#### Reference: \n",
    "* [Linux Uncle Blog][] Linux Uncle Blog"
   ]
  }
 ],
 "metadata": {
  "kernelspec": {
   "display_name": "Python 3",
   "language": "python",
   "name": "python3"
  },
  "language_info": {
   "codemirror_mode": {
    "name": "ipython",
    "version": 3
   },
   "file_extension": ".py",
   "mimetype": "text/x-python",
   "name": "python",
   "nbconvert_exporter": "python",
   "pygments_lexer": "ipython3",
   "version": "3.6.0"
  }
 },
 "nbformat": 4,
 "nbformat_minor": 2
}
